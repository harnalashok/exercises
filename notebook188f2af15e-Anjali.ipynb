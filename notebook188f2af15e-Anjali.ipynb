{
  "nbformat": 4,
  "nbformat_minor": 5,
  "metadata": {
    "kernelspec": {
      "display_name": "Python 3",
      "language": "python",
      "name": "python3"
    },
    "language_info": {
      "codemirror_mode": {
        "name": "ipython",
        "version": 3
      },
      "file_extension": ".py",
      "mimetype": "text/x-python",
      "name": "python",
      "nbconvert_exporter": "python",
      "pygments_lexer": "ipython3",
      "version": "3.7.9"
    },
    "papermill": {
      "default_parameters": {},
      "duration": 17.419605,
      "end_time": "2021-04-11T12:45:51.724476",
      "environment_variables": {},
      "exception": null,
      "input_path": "__notebook__.ipynb",
      "output_path": "__notebook__.ipynb",
      "parameters": {},
      "start_time": "2021-04-11T12:45:34.304871",
      "version": "2.3.2"
    },
    "colab": {
      "name": "notebook188f2af15e.ipynb",
      "provenance": [],
      "include_colab_link": true
    }
  },
  "cells": [
    {
      "cell_type": "markdown",
      "metadata": {
        "id": "view-in-github",
        "colab_type": "text"
      },
      "source": [
        "<a href=\"https://colab.research.google.com/github/harnalashok/exercises/blob/main/notebook188f2af15e-Anjali.ipynb\" target=\"_parent\"><img src=\"https://colab.research.google.com/assets/colab-badge.svg\" alt=\"Open In Colab\"/></a>"
      ]
    },
    {
      "cell_type": "code",
      "metadata": {
        "id": "fDltw81z3PJ0"
      },
      "source": [
        "# Author: Anjali\n",
        "# Commented: Ashok K Harnal"
      ],
      "id": "fDltw81z3PJ0",
      "execution_count": null,
      "outputs": []
    },
    {
      "cell_type": "code",
      "metadata": {
        "_cell_guid": "45af1e4d-dfb2-4d17-9a49-86fe6bf55362",
        "_uuid": "bade5587-44b9-4923-8169-a4571634f9d2",
        "execution": {
          "iopub.execute_input": "2021-04-11T12:45:40.449702Z",
          "iopub.status.busy": "2021-04-11T12:45:40.449087Z",
          "iopub.status.idle": "2021-04-11T12:45:41.389426Z",
          "shell.execute_reply": "2021-04-11T12:45:41.389936Z"
        },
        "jupyter": {
          "outputs_hidden": false
        },
        "papermill": {
          "duration": 0.971768,
          "end_time": "2021-04-11T12:45:41.390270",
          "exception": false,
          "start_time": "2021-04-11T12:45:40.418502",
          "status": "completed"
        },
        "tags": [],
        "id": "ordered-grounds"
      },
      "source": [
        "import numpy as np\n",
        "import pandas as pd\n",
        "import matplotlib.pyplot as plt\n",
        "import seaborn as sns"
      ],
      "id": "ordered-grounds",
      "execution_count": 1,
      "outputs": []
    },
    {
      "cell_type": "code",
      "metadata": {
        "_cell_guid": "676e820e-c319-43be-85d9-3dd6cf604434",
        "_uuid": "d1248f5d-9271-4d1b-8e09-e2db9f4ea295",
        "execution": {
          "iopub.execute_input": "2021-04-11T12:45:41.440477Z",
          "iopub.status.busy": "2021-04-11T12:45:41.439807Z",
          "iopub.status.idle": "2021-04-11T12:45:41.486785Z",
          "shell.execute_reply": "2021-04-11T12:45:41.485269Z"
        },
        "jupyter": {
          "outputs_hidden": false
        },
        "papermill": {
          "duration": 0.072905,
          "end_time": "2021-04-11T12:45:41.486945",
          "exception": false,
          "start_time": "2021-04-11T12:45:41.414040",
          "status": "completed"
        },
        "tags": [],
        "id": "creative-computer"
      },
      "source": [
        "df = pd.read_csv(\"Churn_Modelling.csv\")"
      ],
      "id": "creative-computer",
      "execution_count": 2,
      "outputs": []
    },
    {
      "cell_type": "code",
      "metadata": {
        "_cell_guid": "440c7bdf-622a-4c75-bbc1-91ac5ffe1204",
        "_uuid": "eea14ed8-85e7-4aea-ae3b-ad77f8140dd4",
        "execution": {
          "iopub.execute_input": "2021-04-11T12:45:41.551919Z",
          "iopub.status.busy": "2021-04-11T12:45:41.551242Z",
          "iopub.status.idle": "2021-04-11T12:45:41.571157Z",
          "shell.execute_reply": "2021-04-11T12:45:41.571897Z"
        },
        "jupyter": {
          "outputs_hidden": false
        },
        "papermill": {
          "duration": 0.06146,
          "end_time": "2021-04-11T12:45:41.572151",
          "exception": false,
          "start_time": "2021-04-11T12:45:41.510691",
          "status": "completed"
        },
        "tags": [],
        "id": "acquired-lotus",
        "outputId": "033a9b13-1b58-487b-f746-264a07401057"
      },
      "source": [
        "df.info()"
      ],
      "id": "acquired-lotus",
      "execution_count": null,
      "outputs": [
        {
          "output_type": "stream",
          "text": [
            "<class 'pandas.core.frame.DataFrame'>\n",
            "RangeIndex: 10000 entries, 0 to 9999\n",
            "Data columns (total 14 columns):\n",
            " #   Column           Non-Null Count  Dtype  \n",
            "---  ------           --------------  -----  \n",
            " 0   RowNumber        10000 non-null  int64  \n",
            " 1   CustomerId       10000 non-null  int64  \n",
            " 2   Surname          10000 non-null  object \n",
            " 3   CreditScore      10000 non-null  int64  \n",
            " 4   Geography        10000 non-null  object \n",
            " 5   Gender           10000 non-null  object \n",
            " 6   Age              10000 non-null  int64  \n",
            " 7   Tenure           10000 non-null  int64  \n",
            " 8   Balance          10000 non-null  float64\n",
            " 9   NumOfProducts    10000 non-null  int64  \n",
            " 10  HasCrCard        10000 non-null  int64  \n",
            " 11  IsActiveMember   10000 non-null  int64  \n",
            " 12  EstimatedSalary  10000 non-null  float64\n",
            " 13  Exited           10000 non-null  int64  \n",
            "dtypes: float64(2), int64(9), object(3)\n",
            "memory usage: 1.1+ MB\n"
          ],
          "name": "stdout"
        }
      ]
    },
    {
      "cell_type": "code",
      "metadata": {
        "_cell_guid": "7a0d968d-8f07-44d1-9d56-5e723eb00c33",
        "_uuid": "3cd85614-3d5e-46f7-a982-78000d5ef3f1",
        "execution": {
          "iopub.execute_input": "2021-04-11T12:45:41.629611Z",
          "iopub.status.busy": "2021-04-11T12:45:41.628914Z",
          "iopub.status.idle": "2021-04-11T12:45:41.651960Z",
          "shell.execute_reply": "2021-04-11T12:45:41.652475Z"
        },
        "jupyter": {
          "outputs_hidden": false
        },
        "papermill": {
          "duration": 0.05415,
          "end_time": "2021-04-11T12:45:41.652643",
          "exception": false,
          "start_time": "2021-04-11T12:45:41.598493",
          "status": "completed"
        },
        "tags": [],
        "id": "mysterious-computer",
        "outputId": "5ba3a450-9da8-4311-fa87-6962fefcb290"
      },
      "source": [
        "df.head(10)"
      ],
      "id": "mysterious-computer",
      "execution_count": null,
      "outputs": [
        {
          "output_type": "execute_result",
          "data": {
            "text/html": [
              "<div>\n",
              "<style scoped>\n",
              "    .dataframe tbody tr th:only-of-type {\n",
              "        vertical-align: middle;\n",
              "    }\n",
              "\n",
              "    .dataframe tbody tr th {\n",
              "        vertical-align: top;\n",
              "    }\n",
              "\n",
              "    .dataframe thead th {\n",
              "        text-align: right;\n",
              "    }\n",
              "</style>\n",
              "<table border=\"1\" class=\"dataframe\">\n",
              "  <thead>\n",
              "    <tr style=\"text-align: right;\">\n",
              "      <th></th>\n",
              "      <th>RowNumber</th>\n",
              "      <th>CustomerId</th>\n",
              "      <th>Surname</th>\n",
              "      <th>CreditScore</th>\n",
              "      <th>Geography</th>\n",
              "      <th>Gender</th>\n",
              "      <th>Age</th>\n",
              "      <th>Tenure</th>\n",
              "      <th>Balance</th>\n",
              "      <th>NumOfProducts</th>\n",
              "      <th>HasCrCard</th>\n",
              "      <th>IsActiveMember</th>\n",
              "      <th>EstimatedSalary</th>\n",
              "      <th>Exited</th>\n",
              "    </tr>\n",
              "  </thead>\n",
              "  <tbody>\n",
              "    <tr>\n",
              "      <th>0</th>\n",
              "      <td>1</td>\n",
              "      <td>15634602</td>\n",
              "      <td>Hargrave</td>\n",
              "      <td>619</td>\n",
              "      <td>France</td>\n",
              "      <td>Female</td>\n",
              "      <td>42</td>\n",
              "      <td>2</td>\n",
              "      <td>0.00</td>\n",
              "      <td>1</td>\n",
              "      <td>1</td>\n",
              "      <td>1</td>\n",
              "      <td>101348.88</td>\n",
              "      <td>1</td>\n",
              "    </tr>\n",
              "    <tr>\n",
              "      <th>1</th>\n",
              "      <td>2</td>\n",
              "      <td>15647311</td>\n",
              "      <td>Hill</td>\n",
              "      <td>608</td>\n",
              "      <td>Spain</td>\n",
              "      <td>Female</td>\n",
              "      <td>41</td>\n",
              "      <td>1</td>\n",
              "      <td>83807.86</td>\n",
              "      <td>1</td>\n",
              "      <td>0</td>\n",
              "      <td>1</td>\n",
              "      <td>112542.58</td>\n",
              "      <td>0</td>\n",
              "    </tr>\n",
              "    <tr>\n",
              "      <th>2</th>\n",
              "      <td>3</td>\n",
              "      <td>15619304</td>\n",
              "      <td>Onio</td>\n",
              "      <td>502</td>\n",
              "      <td>France</td>\n",
              "      <td>Female</td>\n",
              "      <td>42</td>\n",
              "      <td>8</td>\n",
              "      <td>159660.80</td>\n",
              "      <td>3</td>\n",
              "      <td>1</td>\n",
              "      <td>0</td>\n",
              "      <td>113931.57</td>\n",
              "      <td>1</td>\n",
              "    </tr>\n",
              "    <tr>\n",
              "      <th>3</th>\n",
              "      <td>4</td>\n",
              "      <td>15701354</td>\n",
              "      <td>Boni</td>\n",
              "      <td>699</td>\n",
              "      <td>France</td>\n",
              "      <td>Female</td>\n",
              "      <td>39</td>\n",
              "      <td>1</td>\n",
              "      <td>0.00</td>\n",
              "      <td>2</td>\n",
              "      <td>0</td>\n",
              "      <td>0</td>\n",
              "      <td>93826.63</td>\n",
              "      <td>0</td>\n",
              "    </tr>\n",
              "    <tr>\n",
              "      <th>4</th>\n",
              "      <td>5</td>\n",
              "      <td>15737888</td>\n",
              "      <td>Mitchell</td>\n",
              "      <td>850</td>\n",
              "      <td>Spain</td>\n",
              "      <td>Female</td>\n",
              "      <td>43</td>\n",
              "      <td>2</td>\n",
              "      <td>125510.82</td>\n",
              "      <td>1</td>\n",
              "      <td>1</td>\n",
              "      <td>1</td>\n",
              "      <td>79084.10</td>\n",
              "      <td>0</td>\n",
              "    </tr>\n",
              "    <tr>\n",
              "      <th>5</th>\n",
              "      <td>6</td>\n",
              "      <td>15574012</td>\n",
              "      <td>Chu</td>\n",
              "      <td>645</td>\n",
              "      <td>Spain</td>\n",
              "      <td>Male</td>\n",
              "      <td>44</td>\n",
              "      <td>8</td>\n",
              "      <td>113755.78</td>\n",
              "      <td>2</td>\n",
              "      <td>1</td>\n",
              "      <td>0</td>\n",
              "      <td>149756.71</td>\n",
              "      <td>1</td>\n",
              "    </tr>\n",
              "    <tr>\n",
              "      <th>6</th>\n",
              "      <td>7</td>\n",
              "      <td>15592531</td>\n",
              "      <td>Bartlett</td>\n",
              "      <td>822</td>\n",
              "      <td>France</td>\n",
              "      <td>Male</td>\n",
              "      <td>50</td>\n",
              "      <td>7</td>\n",
              "      <td>0.00</td>\n",
              "      <td>2</td>\n",
              "      <td>1</td>\n",
              "      <td>1</td>\n",
              "      <td>10062.80</td>\n",
              "      <td>0</td>\n",
              "    </tr>\n",
              "    <tr>\n",
              "      <th>7</th>\n",
              "      <td>8</td>\n",
              "      <td>15656148</td>\n",
              "      <td>Obinna</td>\n",
              "      <td>376</td>\n",
              "      <td>Germany</td>\n",
              "      <td>Female</td>\n",
              "      <td>29</td>\n",
              "      <td>4</td>\n",
              "      <td>115046.74</td>\n",
              "      <td>4</td>\n",
              "      <td>1</td>\n",
              "      <td>0</td>\n",
              "      <td>119346.88</td>\n",
              "      <td>1</td>\n",
              "    </tr>\n",
              "    <tr>\n",
              "      <th>8</th>\n",
              "      <td>9</td>\n",
              "      <td>15792365</td>\n",
              "      <td>He</td>\n",
              "      <td>501</td>\n",
              "      <td>France</td>\n",
              "      <td>Male</td>\n",
              "      <td>44</td>\n",
              "      <td>4</td>\n",
              "      <td>142051.07</td>\n",
              "      <td>2</td>\n",
              "      <td>0</td>\n",
              "      <td>1</td>\n",
              "      <td>74940.50</td>\n",
              "      <td>0</td>\n",
              "    </tr>\n",
              "    <tr>\n",
              "      <th>9</th>\n",
              "      <td>10</td>\n",
              "      <td>15592389</td>\n",
              "      <td>H?</td>\n",
              "      <td>684</td>\n",
              "      <td>France</td>\n",
              "      <td>Male</td>\n",
              "      <td>27</td>\n",
              "      <td>2</td>\n",
              "      <td>134603.88</td>\n",
              "      <td>1</td>\n",
              "      <td>1</td>\n",
              "      <td>1</td>\n",
              "      <td>71725.73</td>\n",
              "      <td>0</td>\n",
              "    </tr>\n",
              "  </tbody>\n",
              "</table>\n",
              "</div>"
            ],
            "text/plain": [
              "   RowNumber  CustomerId   Surname  CreditScore Geography  Gender  Age  \\\n",
              "0          1    15634602  Hargrave          619    France  Female   42   \n",
              "1          2    15647311      Hill          608     Spain  Female   41   \n",
              "2          3    15619304      Onio          502    France  Female   42   \n",
              "3          4    15701354      Boni          699    France  Female   39   \n",
              "4          5    15737888  Mitchell          850     Spain  Female   43   \n",
              "5          6    15574012       Chu          645     Spain    Male   44   \n",
              "6          7    15592531  Bartlett          822    France    Male   50   \n",
              "7          8    15656148    Obinna          376   Germany  Female   29   \n",
              "8          9    15792365        He          501    France    Male   44   \n",
              "9         10    15592389        H?          684    France    Male   27   \n",
              "\n",
              "   Tenure    Balance  NumOfProducts  HasCrCard  IsActiveMember  \\\n",
              "0       2       0.00              1          1               1   \n",
              "1       1   83807.86              1          0               1   \n",
              "2       8  159660.80              3          1               0   \n",
              "3       1       0.00              2          0               0   \n",
              "4       2  125510.82              1          1               1   \n",
              "5       8  113755.78              2          1               0   \n",
              "6       7       0.00              2          1               1   \n",
              "7       4  115046.74              4          1               0   \n",
              "8       4  142051.07              2          0               1   \n",
              "9       2  134603.88              1          1               1   \n",
              "\n",
              "   EstimatedSalary  Exited  \n",
              "0        101348.88       1  \n",
              "1        112542.58       0  \n",
              "2        113931.57       1  \n",
              "3         93826.63       0  \n",
              "4         79084.10       0  \n",
              "5        149756.71       1  \n",
              "6         10062.80       0  \n",
              "7        119346.88       1  \n",
              "8         74940.50       0  \n",
              "9         71725.73       0  "
            ]
          },
          "metadata": {
            "tags": []
          },
          "execution_count": 4
        }
      ]
    },
    {
      "cell_type": "code",
      "metadata": {
        "id": "ND63T9xFzLd0"
      },
      "source": [
        "# Define two general functions to annotate plots with percentages:\n",
        "# See StackOverflow: https://stackoverflow.com/a/62053049\n",
        "# To be used whereever countplot() is being used or catplot()\n",
        "\n",
        "def with_hue(plot, feature, Number_of_levels, hue_levels):\n",
        "    \"\"\"\n",
        "    Number_of_levels: No of levels in main feature\n",
        "    hue_levels: No of levels in hue feature\n",
        "    \"\"\"\n",
        "    a = [p.get_height() for p in plot.patches]\n",
        "    patch = [p for p in plot.patches]\n",
        "    for i in range(Number_of_levels):\n",
        "        total = feature.value_counts().values[i]\n",
        "        for j in range(hue_levels):\n",
        "            percentage = '{:.1f}%'.format(100 * a[(j*Number_of_levels + i)]/total)\n",
        "            x = patch[(j*Number_of_levels + i)].get_x() + patch[(j*Number_of_levels + i)].get_width() / 2 - 0.15\n",
        "            y = patch[(j*Number_of_levels + i)].get_y() + patch[(j*Number_of_levels + i)].get_height() \n",
        "            ax.annotate(percentage, (x, y), size = 12)\n",
        "    plt.show()\n",
        "\n",
        "def without_hue(plot, feature):\n",
        "    total = len(feature)\n",
        "    for p in plot.patches:\n",
        "        percentage = '{:.1f}%'.format(100 * p.get_height()/total)\n",
        "        x = p.get_x() + p.get_width() / 2 - 0.05\n",
        "        y = p.get_y() + p.get_height()\n",
        "        ax.annotate(percentage, (x, y), size = 12)\n",
        "    plt.show()"
      ],
      "id": "ND63T9xFzLd0",
      "execution_count": 4,
      "outputs": []
    },
    {
      "cell_type": "code",
      "metadata": {
        "_cell_guid": "3e135925-e31b-44ce-b0d0-4e291a19754d",
        "_uuid": "e2f0304b-8287-48a7-a5bb-9defa361e9bb",
        "execution": {
          "iopub.execute_input": "2021-04-11T12:45:41.707667Z",
          "iopub.status.busy": "2021-04-11T12:45:41.706583Z",
          "iopub.status.idle": "2021-04-11T12:45:41.864151Z",
          "shell.execute_reply": "2021-04-11T12:45:41.863252Z"
        },
        "jupyter": {
          "outputs_hidden": false
        },
        "papermill": {
          "duration": 0.186979,
          "end_time": "2021-04-11T12:45:41.864361",
          "exception": false,
          "start_time": "2021-04-11T12:45:41.677382",
          "status": "completed"
        },
        "tags": [],
        "colab": {
          "base_uri": "https://localhost:8080/",
          "height": 336
        },
        "id": "frequent-turkish",
        "outputId": "77c9da0e-9fc0-4491-f752-6fd02878e9a8"
      },
      "source": [
        "sns.countplot(df['Exited'],label=\"Count\");"
      ],
      "id": "frequent-turkish",
      "execution_count": 3,
      "outputs": [
        {
          "output_type": "stream",
          "text": [
            "/usr/local/lib/python3.7/dist-packages/seaborn/_decorators.py:43: FutureWarning: Pass the following variable as a keyword arg: x. From version 0.12, the only valid positional argument will be `data`, and passing other arguments without an explicit keyword will result in an error or misinterpretation.\n",
            "  FutureWarning\n"
          ],
          "name": "stderr"
        },
        {
          "output_type": "display_data",
          "data": {
            "image/png": "[encoded data removed]",
            "text/plain": [
              "<Figure size 432x288 with 1 Axes>"
            ]
          },
          "metadata": {
            "tags": [],
            "needs_background": "light"
          }
        }
      ]
    },
    {
      "cell_type": "code",
      "metadata": {
        "colab": {
          "base_uri": "https://localhost:8080/",
          "height": 336
        },
        "id": "LwOVCrLpzNmu",
        "outputId": "466879dd-8b85-4723-b966-9bcee55edba1"
      },
      "source": [
        "###$ More informative\n",
        "\n",
        "ax =sns.countplot(df['Exited'],label=\"Count\");\n",
        "without_hue(ax,df.Exited)"
      ],
      "id": "LwOVCrLpzNmu",
      "execution_count": 5,
      "outputs": [
        {
          "output_type": "stream",
          "text": [
            "/usr/local/lib/python3.7/dist-packages/seaborn/_decorators.py:43: FutureWarning: Pass the following variable as a keyword arg: x. From version 0.12, the only valid positional argument will be `data`, and passing other arguments without an explicit keyword will result in an error or misinterpretation.\n",
            "  FutureWarning\n"
          ],
          "name": "stderr"
        },
        {
          "output_type": "display_data",
          "data": {
            "image/png": "[encoded data removed]",
            "text/plain": [
              "<Figure size 432x288 with 1 Axes>"
            ]
          },
          "metadata": {
            "tags": [],
            "needs_background": "light"
          }
        }
      ]
    },
    {
      "cell_type": "code",
      "metadata": {
        "_cell_guid": "3ee434d1-bb85-4df0-a952-d1e6de929c5d",
        "_uuid": "33e42d36-48e2-4b58-a8e1-9033387892a9",
        "execution": {
          "iopub.execute_input": "2021-04-11T12:45:41.923603Z",
          "iopub.status.busy": "2021-04-11T12:45:41.922638Z",
          "iopub.status.idle": "2021-04-11T12:45:41.926648Z",
          "shell.execute_reply": "2021-04-11T12:45:41.925974Z"
        },
        "jupyter": {
          "outputs_hidden": false
        },
        "papermill": {
          "duration": 0.035944,
          "end_time": "2021-04-11T12:45:41.926789",
          "exception": false,
          "start_time": "2021-04-11T12:45:41.890845",
          "status": "completed"
        },
        "tags": [],
        "id": "parallel-renewal"
      },
      "source": [
        "df.drop(['RowNumber','CustomerId','Surname'],axis=1,inplace=True)"
      ],
      "id": "parallel-renewal",
      "execution_count": 6,
      "outputs": []
    },
    {
      "cell_type": "code",
      "metadata": {
        "_cell_guid": "59e71af9-f78a-4a9f-8311-15ce72499416",
        "_uuid": "2aed21d5-c234-41f7-a7f2-8ab28198e245",
        "execution": {
          "iopub.execute_input": "2021-04-11T12:45:41.994540Z",
          "iopub.status.busy": "2021-04-11T12:45:41.993550Z",
          "iopub.status.idle": "2021-04-11T12:45:41.997803Z",
          "shell.execute_reply": "2021-04-11T12:45:41.997252Z"
        },
        "jupyter": {
          "outputs_hidden": false
        },
        "papermill": {
          "duration": 0.044862,
          "end_time": "2021-04-11T12:45:41.997948",
          "exception": false,
          "start_time": "2021-04-11T12:45:41.953086",
          "status": "completed"
        },
        "tags": [],
        "id": "quick-martial",
        "outputId": "d62a9c98-7fbf-499c-e814-12028c8e063b"
      },
      "source": [
        "df.head()"
      ],
      "id": "quick-martial",
      "execution_count": null,
      "outputs": [
        {
          "output_type": "execute_result",
          "data": {
            "text/html": [
              "<div>\n",
              "<style scoped>\n",
              "    .dataframe tbody tr th:only-of-type {\n",
              "        vertical-align: middle;\n",
              "    }\n",
              "\n",
              "    .dataframe tbody tr th {\n",
              "        vertical-align: top;\n",
              "    }\n",
              "\n",
              "    .dataframe thead th {\n",
              "        text-align: right;\n",
              "    }\n",
              "</style>\n",
              "<table border=\"1\" class=\"dataframe\">\n",
              "  <thead>\n",
              "    <tr style=\"text-align: right;\">\n",
              "      <th></th>\n",
              "      <th>CreditScore</th>\n",
              "      <th>Geography</th>\n",
              "      <th>Gender</th>\n",
              "      <th>Age</th>\n",
              "      <th>Tenure</th>\n",
              "      <th>Balance</th>\n",
              "      <th>NumOfProducts</th>\n",
              "      <th>HasCrCard</th>\n",
              "      <th>IsActiveMember</th>\n",
              "      <th>EstimatedSalary</th>\n",
              "      <th>Exited</th>\n",
              "    </tr>\n",
              "  </thead>\n",
              "  <tbody>\n",
              "    <tr>\n",
              "      <th>0</th>\n",
              "      <td>619</td>\n",
              "      <td>France</td>\n",
              "      <td>Female</td>\n",
              "      <td>42</td>\n",
              "      <td>2</td>\n",
              "      <td>0.00</td>\n",
              "      <td>1</td>\n",
              "      <td>1</td>\n",
              "      <td>1</td>\n",
              "      <td>101348.88</td>\n",
              "      <td>1</td>\n",
              "    </tr>\n",
              "    <tr>\n",
              "      <th>1</th>\n",
              "      <td>608</td>\n",
              "      <td>Spain</td>\n",
              "      <td>Female</td>\n",
              "      <td>41</td>\n",
              "      <td>1</td>\n",
              "      <td>83807.86</td>\n",
              "      <td>1</td>\n",
              "      <td>0</td>\n",
              "      <td>1</td>\n",
              "      <td>112542.58</td>\n",
              "      <td>0</td>\n",
              "    </tr>\n",
              "    <tr>\n",
              "      <th>2</th>\n",
              "      <td>502</td>\n",
              "      <td>France</td>\n",
              "      <td>Female</td>\n",
              "      <td>42</td>\n",
              "      <td>8</td>\n",
              "      <td>159660.80</td>\n",
              "      <td>3</td>\n",
              "      <td>1</td>\n",
              "      <td>0</td>\n",
              "      <td>113931.57</td>\n",
              "      <td>1</td>\n",
              "    </tr>\n",
              "    <tr>\n",
              "      <th>3</th>\n",
              "      <td>699</td>\n",
              "      <td>France</td>\n",
              "      <td>Female</td>\n",
              "      <td>39</td>\n",
              "      <td>1</td>\n",
              "      <td>0.00</td>\n",
              "      <td>2</td>\n",
              "      <td>0</td>\n",
              "      <td>0</td>\n",
              "      <td>93826.63</td>\n",
              "      <td>0</td>\n",
              "    </tr>\n",
              "    <tr>\n",
              "      <th>4</th>\n",
              "      <td>850</td>\n",
              "      <td>Spain</td>\n",
              "      <td>Female</td>\n",
              "      <td>43</td>\n",
              "      <td>2</td>\n",
              "      <td>125510.82</td>\n",
              "      <td>1</td>\n",
              "      <td>1</td>\n",
              "      <td>1</td>\n",
              "      <td>79084.10</td>\n",
              "      <td>0</td>\n",
              "    </tr>\n",
              "  </tbody>\n",
              "</table>\n",
              "</div>"
            ],
            "text/plain": [
              "   CreditScore Geography  Gender  Age  Tenure    Balance  NumOfProducts  \\\n",
              "0          619    France  Female   42       2       0.00              1   \n",
              "1          608     Spain  Female   41       1   83807.86              1   \n",
              "2          502    France  Female   42       8  159660.80              3   \n",
              "3          699    France  Female   39       1       0.00              2   \n",
              "4          850     Spain  Female   43       2  125510.82              1   \n",
              "\n",
              "   HasCrCard  IsActiveMember  EstimatedSalary  Exited  \n",
              "0          1               1        101348.88       1  \n",
              "1          0               1        112542.58       0  \n",
              "2          1               0        113931.57       1  \n",
              "3          0               0         93826.63       0  \n",
              "4          1               1         79084.10       0  "
            ]
          },
          "metadata": {
            "tags": []
          },
          "execution_count": 7
        }
      ]
    },
    {
      "cell_type": "code",
      "metadata": {
        "_cell_guid": "92710022-5270-4731-b51d-8a615f5d7a09",
        "_uuid": "dcd89904-e574-4f2d-8424-8fb007249ac5",
        "execution": {
          "iopub.execute_input": "2021-04-11T12:45:42.058375Z",
          "iopub.status.busy": "2021-04-11T12:45:42.057702Z",
          "iopub.status.idle": "2021-04-11T12:45:42.063368Z",
          "shell.execute_reply": "2021-04-11T12:45:42.063814Z"
        },
        "jupyter": {
          "outputs_hidden": false
        },
        "papermill": {
          "duration": 0.039449,
          "end_time": "2021-04-11T12:45:42.063989",
          "exception": false,
          "start_time": "2021-04-11T12:45:42.024540",
          "status": "completed"
        },
        "tags": [],
        "id": "thick-overhead",
        "outputId": "3c0a96d1-2cdc-4fb9-ea1e-171dd40cc9b1"
      },
      "source": [
        "df.isnull().sum()"
      ],
      "id": "thick-overhead",
      "execution_count": null,
      "outputs": [
        {
          "output_type": "execute_result",
          "data": {
            "text/plain": [
              "CreditScore        0\n",
              "Geography          0\n",
              "Gender             0\n",
              "Age                0\n",
              "Tenure             0\n",
              "Balance            0\n",
              "NumOfProducts      0\n",
              "HasCrCard          0\n",
              "IsActiveMember     0\n",
              "EstimatedSalary    0\n",
              "Exited             0\n",
              "dtype: int64"
            ]
          },
          "metadata": {
            "tags": []
          },
          "execution_count": 8
        }
      ]
    },
    {
      "cell_type": "code",
      "metadata": {
        "_cell_guid": "469e8b33-9c0b-4598-b753-97b5bc8dc616",
        "_uuid": "ae99a613-a5b1-4bd0-82ab-230b04fe08df",
        "execution": {
          "iopub.execute_input": "2021-04-11T12:45:42.124313Z",
          "iopub.status.busy": "2021-04-11T12:45:42.123505Z",
          "iopub.status.idle": "2021-04-11T12:45:42.166103Z",
          "shell.execute_reply": "2021-04-11T12:45:42.166646Z"
        },
        "jupyter": {
          "outputs_hidden": false
        },
        "papermill": {
          "duration": 0.074671,
          "end_time": "2021-04-11T12:45:42.166846",
          "exception": false,
          "start_time": "2021-04-11T12:45:42.092175",
          "status": "completed"
        },
        "tags": [],
        "id": "introductory-biotechnology",
        "outputId": "a6d06b1e-fece-4ca8-9c6a-69c32e0cdd10"
      },
      "source": [
        "ge=pd.crosstab(df.Exited,df.Gender)\n",
        "ge"
      ],
      "id": "introductory-biotechnology",
      "execution_count": null,
      "outputs": [
        {
          "output_type": "execute_result",
          "data": {
            "text/html": [
              "<div>\n",
              "<style scoped>\n",
              "    .dataframe tbody tr th:only-of-type {\n",
              "        vertical-align: middle;\n",
              "    }\n",
              "\n",
              "    .dataframe tbody tr th {\n",
              "        vertical-align: top;\n",
              "    }\n",
              "\n",
              "    .dataframe thead th {\n",
              "        text-align: right;\n",
              "    }\n",
              "</style>\n",
              "<table border=\"1\" class=\"dataframe\">\n",
              "  <thead>\n",
              "    <tr style=\"text-align: right;\">\n",
              "      <th>Gender</th>\n",
              "      <th>Female</th>\n",
              "      <th>Male</th>\n",
              "    </tr>\n",
              "    <tr>\n",
              "      <th>Exited</th>\n",
              "      <th></th>\n",
              "      <th></th>\n",
              "    </tr>\n",
              "  </thead>\n",
              "  <tbody>\n",
              "    <tr>\n",
              "      <th>0</th>\n",
              "      <td>3404</td>\n",
              "      <td>4559</td>\n",
              "    </tr>\n",
              "    <tr>\n",
              "      <th>1</th>\n",
              "      <td>1139</td>\n",
              "      <td>898</td>\n",
              "    </tr>\n",
              "  </tbody>\n",
              "</table>\n",
              "</div>"
            ],
            "text/plain": [
              "Gender  Female  Male\n",
              "Exited              \n",
              "0         3404  4559\n",
              "1         1139   898"
            ]
          },
          "metadata": {
            "tags": []
          },
          "execution_count": 9
        }
      ]
    },
    {
      "cell_type": "code",
      "metadata": {
        "_cell_guid": "8d1b763c-2396-4ba4-ab7d-dfc6d13f37f5",
        "_uuid": "44151c23-1e4e-4fc1-a720-6beaccaf77c1",
        "execution": {
          "iopub.execute_input": "2021-04-11T12:45:42.226176Z",
          "iopub.status.busy": "2021-04-11T12:45:42.225566Z",
          "iopub.status.idle": "2021-04-11T12:45:42.369888Z",
          "shell.execute_reply": "2021-04-11T12:45:42.370449Z"
        },
        "jupyter": {
          "outputs_hidden": false
        },
        "papermill": {
          "duration": 0.176216,
          "end_time": "2021-04-11T12:45:42.370629",
          "exception": false,
          "start_time": "2021-04-11T12:45:42.194413",
          "status": "completed"
        },
        "tags": [],
        "id": "superb-paradise",
        "outputId": "04167f70-55d1-4928-b8c5-249f12211a7c"
      },
      "source": [
        "sns.countplot(x='Exited', hue='Gender', data=df)"
      ],
      "id": "superb-paradise",
      "execution_count": null,
      "outputs": [
        {
          "output_type": "execute_result",
          "data": {
            "text/plain": [
              "<AxesSubplot:xlabel='Exited', ylabel='count'>"
            ]
          },
          "metadata": {
            "tags": []
          },
          "execution_count": 10
        },
        {
          "output_type": "display_data",
          "data": {
            "image/png": "[encoded data removed]",
            "text/plain": [
              "<Figure size 432x288 with 1 Axes>"
            ]
          },
          "metadata": {
            "tags": [],
            "needs_background": "light"
          }
        }
      ]
    },
    {
      "cell_type": "code",
      "metadata": {
        "colab": {
          "base_uri": "https://localhost:8080/",
          "height": 279
        },
        "id": "lLRC8LPHzhD5",
        "outputId": "9209a08c-3474-4050-98e7-228a3d2f1c30"
      },
      "source": [
        "ax = sns.countplot(x='Exited', hue='Gender', data=df)\n",
        "with_hue(ax,df.Exited, 2,2)"
      ],
      "id": "lLRC8LPHzhD5",
      "execution_count": 7,
      "outputs": [
        {
          "output_type": "display_data",
          "data": {
            "image/png": "[encoded data removed]",
            "text/plain": [
              "<Figure size 432x288 with 1 Axes>"
            ]
          },
          "metadata": {
            "tags": [],
            "needs_background": "light"
          }
        }
      ]
    },
    {
      "cell_type": "code",
      "metadata": {
        "_cell_guid": "8092427f-ea69-48bd-9d64-e22b3765834e",
        "_uuid": "45bcf1e6-3b6b-4598-88ff-4d90a70c162f",
        "execution": {
          "iopub.execute_input": "2021-04-11T12:45:42.431576Z",
          "iopub.status.busy": "2021-04-11T12:45:42.430939Z",
          "iopub.status.idle": "2021-04-11T12:45:42.602799Z",
          "shell.execute_reply": "2021-04-11T12:45:42.602094Z"
        },
        "jupyter": {
          "outputs_hidden": false
        },
        "papermill": {
          "duration": 0.203393,
          "end_time": "2021-04-11T12:45:42.602939",
          "exception": false,
          "start_time": "2021-04-11T12:45:42.399546",
          "status": "completed"
        },
        "tags": [],
        "id": "biblical-world",
        "outputId": "722e7116-dd57-40cf-b219-097068d61f7c"
      },
      "source": [
        "sns.countplot(x='Exited', hue='Geography', data=df)"
      ],
      "id": "biblical-world",
      "execution_count": null,
      "outputs": [
        {
          "output_type": "execute_result",
          "data": {
            "text/plain": [
              "<AxesSubplot:xlabel='Exited', ylabel='count'>"
            ]
          },
          "metadata": {
            "tags": []
          },
          "execution_count": 11
        },
        {
          "output_type": "display_data",
          "data": {
            "image/png": "[encoded data removed]",
            "text/plain": [
              "<Figure size 432x288 with 1 Axes>"
            ]
          },
          "metadata": {
            "tags": [],
            "needs_background": "light"
          }
        }
      ]
    },
    {
      "cell_type": "code",
      "metadata": {
        "id": "BIhb1HAozysL"
      },
      "source": [
        "###$ Helps in comparing two adjacent bars\n",
        "def percent_graph(grby,hue, data):\n",
        "  so = data.groupby(grby)[hue].value_counts(normalize = True)\n",
        "  so.name = '%count'\n",
        "  t = so.reset_index()\n",
        "  sns.set_theme(style=\"whitegrid\")\n",
        "  sns.barplot(x = grby, y = '%count', hue= hue, data= t)"
      ],
      "id": "BIhb1HAozysL",
      "execution_count": 8,
      "outputs": []
    },
    {
      "cell_type": "code",
      "metadata": {
        "colab": {
          "base_uri": "https://localhost:8080/",
          "height": 279
        },
        "id": "x3C-YrlCz0Ep",
        "outputId": "ab3e1df4-f7e4-437e-9a6e-1f6e4a0ce0f9"
      },
      "source": [
        "ax = sns.countplot(x='Exited', hue='Geography', data=df)\n",
        "with_hue(ax,df.Exited, 2,3)"
      ],
      "id": "x3C-YrlCz0Ep",
      "execution_count": 9,
      "outputs": [
        {
          "output_type": "display_data",
          "data": {
            "image/png": "[encoded data removed]",
            "text/plain": [
              "<Figure size 432x288 with 1 Axes>"
            ]
          },
          "metadata": {
            "tags": [],
            "needs_background": "light"
          }
        }
      ]
    },
    {
      "cell_type": "code",
      "metadata": {
        "colab": {
          "base_uri": "https://localhost:8080/",
          "height": 502
        },
        "id": "knI1vC1Sz_c6",
        "outputId": "9badec89-dba5-4bd6-8a1c-8e727d7ccdf2"
      },
      "source": [
        "###$ Another moreinformative graph\n",
        "plt.figure(figsize = (8,8))\n",
        "percent_graph('Exited', 'Geography', df)"
      ],
      "id": "knI1vC1Sz_c6",
      "execution_count": 16,
      "outputs": [
        {
          "output_type": "display_data",
          "data": {
            "image/png": "[encoded data removed]",
            "text/plain": [
              "<Figure size 576x576 with 1 Axes>"
            ]
          },
          "metadata": {
            "tags": []
          }
        }
      ]
    },
    {
      "cell_type": "code",
      "metadata": {
        "_cell_guid": "b47f4551-962c-4cb1-aa56-79c01132035f",
        "_uuid": "c47e72c7-b79e-49a5-8fea-132538a22fe2",
        "execution": {
          "iopub.execute_input": "2021-04-11T12:45:42.671081Z",
          "iopub.status.busy": "2021-04-11T12:45:42.670458Z",
          "iopub.status.idle": "2021-04-11T12:45:42.690505Z",
          "shell.execute_reply": "2021-04-11T12:45:42.691039Z"
        },
        "jupyter": {
          "outputs_hidden": false
        },
        "papermill": {
          "duration": 0.057735,
          "end_time": "2021-04-11T12:45:42.691224",
          "exception": false,
          "start_time": "2021-04-11T12:45:42.633489",
          "status": "completed"
        },
        "tags": [],
        "id": "bigger-antarctica",
        "outputId": "3abf6448-0159-4596-e5c9-f948aa96a07a"
      },
      "source": [
        "df1=pd.crosstab( df['Exited'], df['Geography'])\n",
        "df1"
      ],
      "id": "bigger-antarctica",
      "execution_count": null,
      "outputs": [
        {
          "output_type": "execute_result",
          "data": {
            "text/html": [
              "<div>\n",
              "<style scoped>\n",
              "    .dataframe tbody tr th:only-of-type {\n",
              "        vertical-align: middle;\n",
              "    }\n",
              "\n",
              "    .dataframe tbody tr th {\n",
              "        vertical-align: top;\n",
              "    }\n",
              "\n",
              "    .dataframe thead th {\n",
              "        text-align: right;\n",
              "    }\n",
              "</style>\n",
              "<table border=\"1\" class=\"dataframe\">\n",
              "  <thead>\n",
              "    <tr style=\"text-align: right;\">\n",
              "      <th>Geography</th>\n",
              "      <th>France</th>\n",
              "      <th>Germany</th>\n",
              "      <th>Spain</th>\n",
              "    </tr>\n",
              "    <tr>\n",
              "      <th>Exited</th>\n",
              "      <th></th>\n",
              "      <th></th>\n",
              "      <th></th>\n",
              "    </tr>\n",
              "  </thead>\n",
              "  <tbody>\n",
              "    <tr>\n",
              "      <th>0</th>\n",
              "      <td>4204</td>\n",
              "      <td>1695</td>\n",
              "      <td>2064</td>\n",
              "    </tr>\n",
              "    <tr>\n",
              "      <th>1</th>\n",
              "      <td>810</td>\n",
              "      <td>814</td>\n",
              "      <td>413</td>\n",
              "    </tr>\n",
              "  </tbody>\n",
              "</table>\n",
              "</div>"
            ],
            "text/plain": [
              "Geography  France  Germany  Spain\n",
              "Exited                           \n",
              "0            4204     1695   2064\n",
              "1             810      814    413"
            ]
          },
          "metadata": {
            "tags": []
          },
          "execution_count": 12
        }
      ]
    },
    {
      "cell_type": "code",
      "metadata": {
        "_cell_guid": "0d763f0c-b65f-42ab-ad38-83e622ef670f",
        "_uuid": "2d8acfeb-b3b0-4fb2-8ea3-cb50721ae13f",
        "execution": {
          "iopub.execute_input": "2021-04-11T12:45:42.759636Z",
          "iopub.status.busy": "2021-04-11T12:45:42.758985Z",
          "iopub.status.idle": "2021-04-11T12:45:42.933652Z",
          "shell.execute_reply": "2021-04-11T12:45:42.933100Z"
        },
        "jupyter": {
          "outputs_hidden": false
        },
        "papermill": {
          "duration": 0.211356,
          "end_time": "2021-04-11T12:45:42.933811",
          "exception": false,
          "start_time": "2021-04-11T12:45:42.722455",
          "status": "completed"
        },
        "tags": [],
        "id": "acute-accordance",
        "outputId": "230cc77f-0596-444d-84e0-8a23509e8cb5"
      },
      "source": [
        "plt.figure(figsize=(6,6))\n",
        "(df1.loc[1] * 100.0 / df1.sum()).plot(x=df1.index, y=df1.values, kind='bar')\n",
        "plt.ylabel('Churn percentage')\n",
        "plt.title('Churn_Rate in Location')"
      ],
      "id": "acute-accordance",
      "execution_count": null,
      "outputs": [
        {
          "output_type": "execute_result",
          "data": {
            "text/plain": [
              "Text(0.5, 1.0, 'Churn_Rate in Location')"
            ]
          },
          "metadata": {
            "tags": []
          },
          "execution_count": 13
        },
        {
          "output_type": "display_data",
          "data": {
            "image/png": "[encoded data removed]",
            "text/plain": [
              "<Figure size 432x432 with 1 Axes>"
            ]
          },
          "metadata": {
            "tags": [],
            "needs_background": "light"
          }
        }
      ]
    },
    {
      "cell_type": "code",
      "metadata": {
        "_cell_guid": "217aae9a-99eb-4ec5-82fa-02a613bd787d",
        "_uuid": "1dd6ce19-1ee5-4abc-be5b-0d287b723b15",
        "execution": {
          "iopub.execute_input": "2021-04-11T12:45:43.028666Z",
          "iopub.status.busy": "2021-04-11T12:45:43.021501Z",
          "iopub.status.idle": "2021-04-11T12:45:44.391059Z",
          "shell.execute_reply": "2021-04-11T12:45:44.391682Z"
        },
        "jupyter": {
          "outputs_hidden": false
        },
        "papermill": {
          "duration": 1.426256,
          "end_time": "2021-04-11T12:45:44.391888",
          "exception": false,
          "start_time": "2021-04-11T12:45:42.965632",
          "status": "completed"
        },
        "tags": [],
        "id": "funded-minority",
        "outputId": "2dc84522-b970-4852-fa98-8bc0a79a23f5"
      },
      "source": [
        "###$ Please select only those columns for histogram which are continuous.\n",
        "##  For example, do not select HasCrCard, Exited etc\n",
        "\n",
        "df.hist(figsize=(12,10),bins=20)\n",
        "plt.show()"
      ],
      "id": "funded-minority",
      "execution_count": null,
      "outputs": [
        {
          "output_type": "stream",
          "text": [
            "/opt/conda/lib/python3.7/site-packages/pandas/plotting/_matplotlib/tools.py:400: MatplotlibDeprecationWarning: \n",
            "The is_first_col function was deprecated in Matplotlib 3.4 and will be removed two minor releases later. Use ax.get_subplotspec().is_first_col() instead.\n",
            "  if ax.is_first_col():\n"
          ],
          "name": "stderr"
        },
        {
          "output_type": "display_data",
          "data": {
            "image/png": "[encoded data removed]",
            "text/plain": [
              "<Figure size 864x720 with 9 Axes>"
            ]
          },
          "metadata": {
            "tags": [],
            "needs_background": "light"
          }
        }
      ]
    },
    {
      "cell_type": "code",
      "metadata": {
        "_cell_guid": "d4514a1f-9287-4b77-bfa1-9b9282f7f44d",
        "_uuid": "f35b53a5-76f7-45af-88e4-fda56b91d84d",
        "execution": {
          "iopub.execute_input": "2021-04-11T12:45:44.487872Z",
          "iopub.status.busy": "2021-04-11T12:45:44.487151Z",
          "iopub.status.idle": "2021-04-11T12:45:45.151275Z",
          "shell.execute_reply": "2021-04-11T12:45:45.150659Z"
        },
        "jupyter": {
          "outputs_hidden": false
        },
        "papermill": {
          "duration": 0.710137,
          "end_time": "2021-04-11T12:45:45.151473",
          "exception": false,
          "start_time": "2021-04-11T12:45:44.441336",
          "status": "completed"
        },
        "tags": [],
        "id": "flush-winter",
        "outputId": "0b2283be-1aa3-4f58-971b-cf8db1c668bf"
      },
      "source": [
        "sns.displot(x='CreditScore', hue='Exited', data=df)"
      ],
      "id": "flush-winter",
      "execution_count": null,
      "outputs": [
        {
          "output_type": "execute_result",
          "data": {
            "text/plain": [
              "<seaborn.axisgrid.FacetGrid at 0x7f33ed27d510>"
            ]
          },
          "metadata": {
            "tags": []
          },
          "execution_count": 15
        },
        {
          "output_type": "display_data",
          "data": {
            "image/png": "[encoded data removed]",
            "text/plain": [
              "<Figure size 402.375x360 with 1 Axes>"
            ]
          },
          "metadata": {
            "tags": [],
            "needs_background": "light"
          }
        }
      ]
    },
    {
      "cell_type": "code",
      "metadata": {
        "_cell_guid": "55c19702-5e7f-459a-978f-b64ddac60002",
        "_uuid": "6dbd5e6b-93dc-470e-a87c-edbe517d0d9f",
        "execution": {
          "iopub.execute_input": "2021-04-11T12:45:45.227765Z",
          "iopub.status.busy": "2021-04-11T12:45:45.226763Z",
          "iopub.status.idle": "2021-04-11T12:45:45.555849Z",
          "shell.execute_reply": "2021-04-11T12:45:45.555188Z"
        },
        "jupyter": {
          "outputs_hidden": false
        },
        "papermill": {
          "duration": 0.369463,
          "end_time": "2021-04-11T12:45:45.555993",
          "exception": false,
          "start_time": "2021-04-11T12:45:45.186530",
          "status": "completed"
        },
        "tags": [],
        "id": "revised-label",
        "outputId": "65a23d97-523b-4750-dc49-9cb8f7c1b842"
      },
      "source": [
        "# Divide Credit_Score into 3 bins\n",
        "df['Credit_Score'] = pd.qcut(df['CreditScore'], 3)\n",
        "  \n",
        "# Barplot - Shows approximate values based \n",
        "# on the height of bars.\n",
        "sns.barplot(x ='Credit_Score', y ='Exited', \n",
        "data = df)"
      ],
      "id": "revised-label",
      "execution_count": null,
      "outputs": [
        {
          "output_type": "execute_result",
          "data": {
            "text/plain": [
              "<AxesSubplot:xlabel='Credit_Score', ylabel='Exited'>"
            ]
          },
          "metadata": {
            "tags": []
          },
          "execution_count": 16
        },
        {
          "output_type": "display_data",
          "data": {
            "image/png": "[encoded data removed]",
            "text/plain": [
              "<Figure size 432x288 with 1 Axes>"
            ]
          },
          "metadata": {
            "tags": [],
            "needs_background": "light"
          }
        }
      ]
    },
    {
      "cell_type": "code",
      "metadata": {
        "_cell_guid": "5ea6c079-4342-4d82-bc90-7034698d0381",
        "_uuid": "24d1c343-0e6b-484e-abea-13640bdc922e",
        "execution": {
          "iopub.execute_input": "2021-04-11T12:45:45.645724Z",
          "iopub.status.busy": "2021-04-11T12:45:45.640416Z",
          "iopub.status.idle": "2021-04-11T12:45:45.653515Z",
          "shell.execute_reply": "2021-04-11T12:45:45.652975Z"
        },
        "jupyter": {
          "outputs_hidden": false
        },
        "papermill": {
          "duration": 0.061549,
          "end_time": "2021-04-11T12:45:45.653661",
          "exception": false,
          "start_time": "2021-04-11T12:45:45.592112",
          "status": "completed"
        },
        "tags": [],
        "id": "nuclear-gregory",
        "outputId": "ca7006f3-a7e2-4ed4-cc29-902c3b31c4e7"
      },
      "source": [
        "df.head()"
      ],
      "id": "nuclear-gregory",
      "execution_count": null,
      "outputs": [
        {
          "output_type": "execute_result",
          "data": {
            "text/html": [
              "<div>\n",
              "<style scoped>\n",
              "    .dataframe tbody tr th:only-of-type {\n",
              "        vertical-align: middle;\n",
              "    }\n",
              "\n",
              "    .dataframe tbody tr th {\n",
              "        vertical-align: top;\n",
              "    }\n",
              "\n",
              "    .dataframe thead th {\n",
              "        text-align: right;\n",
              "    }\n",
              "</style>\n",
              "<table border=\"1\" class=\"dataframe\">\n",
              "  <thead>\n",
              "    <tr style=\"text-align: right;\">\n",
              "      <th></th>\n",
              "      <th>CreditScore</th>\n",
              "      <th>Geography</th>\n",
              "      <th>Gender</th>\n",
              "      <th>Age</th>\n",
              "      <th>Tenure</th>\n",
              "      <th>Balance</th>\n",
              "      <th>NumOfProducts</th>\n",
              "      <th>HasCrCard</th>\n",
              "      <th>IsActiveMember</th>\n",
              "      <th>EstimatedSalary</th>\n",
              "      <th>Exited</th>\n",
              "      <th>Credit_Score</th>\n",
              "    </tr>\n",
              "  </thead>\n",
              "  <tbody>\n",
              "    <tr>\n",
              "      <th>0</th>\n",
              "      <td>619</td>\n",
              "      <td>France</td>\n",
              "      <td>Female</td>\n",
              "      <td>42</td>\n",
              "      <td>2</td>\n",
              "      <td>0.00</td>\n",
              "      <td>1</td>\n",
              "      <td>1</td>\n",
              "      <td>1</td>\n",
              "      <td>101348.88</td>\n",
              "      <td>1</td>\n",
              "      <td>(608.0, 695.0]</td>\n",
              "    </tr>\n",
              "    <tr>\n",
              "      <th>1</th>\n",
              "      <td>608</td>\n",
              "      <td>Spain</td>\n",
              "      <td>Female</td>\n",
              "      <td>41</td>\n",
              "      <td>1</td>\n",
              "      <td>83807.86</td>\n",
              "      <td>1</td>\n",
              "      <td>0</td>\n",
              "      <td>1</td>\n",
              "      <td>112542.58</td>\n",
              "      <td>0</td>\n",
              "      <td>(349.999, 608.0]</td>\n",
              "    </tr>\n",
              "    <tr>\n",
              "      <th>2</th>\n",
              "      <td>502</td>\n",
              "      <td>France</td>\n",
              "      <td>Female</td>\n",
              "      <td>42</td>\n",
              "      <td>8</td>\n",
              "      <td>159660.80</td>\n",
              "      <td>3</td>\n",
              "      <td>1</td>\n",
              "      <td>0</td>\n",
              "      <td>113931.57</td>\n",
              "      <td>1</td>\n",
              "      <td>(349.999, 608.0]</td>\n",
              "    </tr>\n",
              "    <tr>\n",
              "      <th>3</th>\n",
              "      <td>699</td>\n",
              "      <td>France</td>\n",
              "      <td>Female</td>\n",
              "      <td>39</td>\n",
              "      <td>1</td>\n",
              "      <td>0.00</td>\n",
              "      <td>2</td>\n",
              "      <td>0</td>\n",
              "      <td>0</td>\n",
              "      <td>93826.63</td>\n",
              "      <td>0</td>\n",
              "      <td>(695.0, 850.0]</td>\n",
              "    </tr>\n",
              "    <tr>\n",
              "      <th>4</th>\n",
              "      <td>850</td>\n",
              "      <td>Spain</td>\n",
              "      <td>Female</td>\n",
              "      <td>43</td>\n",
              "      <td>2</td>\n",
              "      <td>125510.82</td>\n",
              "      <td>1</td>\n",
              "      <td>1</td>\n",
              "      <td>1</td>\n",
              "      <td>79084.10</td>\n",
              "      <td>0</td>\n",
              "      <td>(695.0, 850.0]</td>\n",
              "    </tr>\n",
              "  </tbody>\n",
              "</table>\n",
              "</div>"
            ],
            "text/plain": [
              "   CreditScore Geography  Gender  Age  Tenure    Balance  NumOfProducts  \\\n",
              "0          619    France  Female   42       2       0.00              1   \n",
              "1          608     Spain  Female   41       1   83807.86              1   \n",
              "2          502    France  Female   42       8  159660.80              3   \n",
              "3          699    France  Female   39       1       0.00              2   \n",
              "4          850     Spain  Female   43       2  125510.82              1   \n",
              "\n",
              "   HasCrCard  IsActiveMember  EstimatedSalary  Exited      Credit_Score  \n",
              "0          1               1        101348.88       1    (608.0, 695.0]  \n",
              "1          0               1        112542.58       0  (349.999, 608.0]  \n",
              "2          1               0        113931.57       1  (349.999, 608.0]  \n",
              "3          0               0         93826.63       0    (695.0, 850.0]  \n",
              "4          1               1         79084.10       0    (695.0, 850.0]  "
            ]
          },
          "metadata": {
            "tags": []
          },
          "execution_count": 17
        }
      ]
    },
    {
      "cell_type": "code",
      "metadata": {
        "_cell_guid": "efbcd128-850e-4dde-976d-a68e3ddd600c",
        "_uuid": "79975c4f-f626-4459-a326-92994ba483fc",
        "execution": {
          "iopub.execute_input": "2021-04-11T12:45:45.736735Z",
          "iopub.status.busy": "2021-04-11T12:45:45.735978Z",
          "iopub.status.idle": "2021-04-11T12:45:46.513526Z",
          "shell.execute_reply": "2021-04-11T12:45:46.512380Z"
        },
        "jupyter": {
          "outputs_hidden": false
        },
        "papermill": {
          "duration": 0.822526,
          "end_time": "2021-04-11T12:45:46.513696",
          "exception": false,
          "start_time": "2021-04-11T12:45:45.691170",
          "status": "completed"
        },
        "tags": [],
        "id": "supported-thesis",
        "outputId": "b8b0839a-814a-4f58-cfc3-4ebb58bd7ea2"
      },
      "source": [
        "sns.displot(x='Age', hue='Exited', data=df)"
      ],
      "id": "supported-thesis",
      "execution_count": null,
      "outputs": [
        {
          "output_type": "execute_result",
          "data": {
            "text/plain": [
              "<seaborn.axisgrid.FacetGrid at 0x7f33ed2d19d0>"
            ]
          },
          "metadata": {
            "tags": []
          },
          "execution_count": 18
        },
        {
          "output_type": "display_data",
          "data": {
            "image/png": "[encoded data removed]",
            "text/plain": [
              "<Figure size 402.375x360 with 1 Axes>"
            ]
          },
          "metadata": {
            "tags": [],
            "needs_background": "light"
          }
        }
      ]
    },
    {
      "cell_type": "code",
      "metadata": {
        "_cell_guid": "d4c53df8-4522-466f-952f-c8eef306a9a8",
        "_uuid": "a20d5483-459f-4e56-bf0d-8d3cd116a2a5",
        "execution": {
          "iopub.execute_input": "2021-04-11T12:45:46.600536Z",
          "iopub.status.busy": "2021-04-11T12:45:46.599846Z",
          "iopub.status.idle": "2021-04-11T12:45:46.826946Z",
          "shell.execute_reply": "2021-04-11T12:45:46.826379Z"
        },
        "jupyter": {
          "outputs_hidden": false
        },
        "papermill": {
          "duration": 0.274002,
          "end_time": "2021-04-11T12:45:46.827088",
          "exception": false,
          "start_time": "2021-04-11T12:45:46.553086",
          "status": "completed"
        },
        "tags": [],
        "id": "diagnostic-pencil",
        "outputId": "93b0d868-0cfe-4bdb-dad6-dd29016f2db2"
      },
      "source": [
        "sns.violinplot(x =\"Gender\", y =\"Age\", hue =\"Exited\", \n",
        "data = df, split = True)"
      ],
      "id": "diagnostic-pencil",
      "execution_count": null,
      "outputs": [
        {
          "output_type": "execute_result",
          "data": {
            "text/plain": [
              "<AxesSubplot:xlabel='Gender', ylabel='Age'>"
            ]
          },
          "metadata": {
            "tags": []
          },
          "execution_count": 19
        },
        {
          "output_type": "display_data",
          "data": {
            "image/png": "[encoded data removed]",
            "text/plain": [
              "<Figure size 432x288 with 1 Axes>"
            ]
          },
          "metadata": {
            "tags": [],
            "needs_background": "light"
          }
        }
      ]
    },
    {
      "cell_type": "code",
      "metadata": {
        "_cell_guid": "9df01f1f-5e11-4b78-9a0b-bf90fdb15837",
        "_uuid": "056c7de8-227b-48e5-a7e2-4df6c12212c3",
        "execution": {
          "iopub.execute_input": "2021-04-11T12:45:46.915508Z",
          "iopub.status.busy": "2021-04-11T12:45:46.914760Z",
          "iopub.status.idle": "2021-04-11T12:45:47.416439Z",
          "shell.execute_reply": "2021-04-11T12:45:47.415757Z"
        },
        "jupyter": {
          "outputs_hidden": false
        },
        "papermill": {
          "duration": 0.549442,
          "end_time": "2021-04-11T12:45:47.416581",
          "exception": false,
          "start_time": "2021-04-11T12:45:46.867139",
          "status": "completed"
        },
        "tags": [],
        "id": "moving-evans",
        "outputId": "1783ca58-37f9-4015-d5e9-661b51f190dd"
      },
      "source": [
        "sns.displot(x='Balance', hue='Exited', data=df)"
      ],
      "id": "moving-evans",
      "execution_count": null,
      "outputs": [
        {
          "output_type": "execute_result",
          "data": {
            "text/plain": [
              "<seaborn.axisgrid.FacetGrid at 0x7f33ed2d1e10>"
            ]
          },
          "metadata": {
            "tags": []
          },
          "execution_count": 20
        },
        {
          "output_type": "display_data",
          "data": {
            "image/png": "[encoded data removed]",
            "text/plain": [
              "<Figure size 402.375x360 with 1 Axes>"
            ]
          },
          "metadata": {
            "tags": [],
            "needs_background": "light"
          }
        }
      ]
    },
    {
      "cell_type": "code",
      "metadata": {
        "_cell_guid": "3c9fa9b8-bbc9-4e76-a1bb-ed9a087c17b1",
        "_uuid": "c28391ad-6645-457d-b66d-31b36209eb4a",
        "execution": {
          "iopub.execute_input": "2021-04-11T12:45:47.507503Z",
          "iopub.status.busy": "2021-04-11T12:45:47.506503Z",
          "iopub.status.idle": "2021-04-11T12:45:48.053068Z",
          "shell.execute_reply": "2021-04-11T12:45:48.052561Z"
        },
        "jupyter": {
          "outputs_hidden": false
        },
        "papermill": {
          "duration": 0.595322,
          "end_time": "2021-04-11T12:45:48.053208",
          "exception": false,
          "start_time": "2021-04-11T12:45:47.457886",
          "status": "completed"
        },
        "tags": [],
        "id": "applicable-communist",
        "outputId": "7261eb35-2046-4d02-ba53-c39d209323f2"
      },
      "source": [
        "sns.displot(x='EstimatedSalary', hue='Exited', data=df)"
      ],
      "id": "applicable-communist",
      "execution_count": null,
      "outputs": [
        {
          "output_type": "execute_result",
          "data": {
            "text/plain": [
              "<seaborn.axisgrid.FacetGrid at 0x7f33ea5ab610>"
            ]
          },
          "metadata": {
            "tags": []
          },
          "execution_count": 21
        },
        {
          "output_type": "display_data",
          "data": {
            "image/png": "[encoded data removed]",
            "text/plain": [
              "<Figure size 402.375x360 with 1 Axes>"
            ]
          },
          "metadata": {
            "tags": [],
            "needs_background": "light"
          }
        }
      ]
    },
    {
      "cell_type": "code",
      "metadata": {
        "_cell_guid": "8a05e01c-5f3f-4802-bfd3-2274d8405c78",
        "_uuid": "aa756074-692c-427f-94df-f2403794b072",
        "execution": {
          "iopub.execute_input": "2021-04-11T12:45:48.162438Z",
          "iopub.status.busy": "2021-04-11T12:45:48.144126Z",
          "iopub.status.idle": "2021-04-11T12:45:49.108240Z",
          "shell.execute_reply": "2021-04-11T12:45:49.107744Z"
        },
        "jupyter": {
          "outputs_hidden": false
        },
        "papermill": {
          "duration": 1.013112,
          "end_time": "2021-04-11T12:45:49.108402",
          "exception": false,
          "start_time": "2021-04-11T12:45:48.095290",
          "status": "completed"
        },
        "tags": [],
        "id": "decreased-weather",
        "outputId": "84520969-5b0f-4cb0-c573-d41ab497ff0e"
      },
      "source": [
        "sns.jointplot(x =\"Balance\", y =\"EstimatedSalary\", hue =\"Exited\", data = df)"
      ],
      "id": "decreased-weather",
      "execution_count": null,
      "outputs": [
        {
          "output_type": "execute_result",
          "data": {
            "text/plain": [
              "<seaborn.axisgrid.JointGrid at 0x7f341a006250>"
            ]
          },
          "metadata": {
            "tags": []
          },
          "execution_count": 22
        },
        {
          "output_type": "display_data",
          "data": {
            "image/png": "[encoded data removed]",
            "text/plain": [
              "<Figure size 432x432 with 3 Axes>"
            ]
          },
          "metadata": {
            "tags": [],
            "needs_background": "light"
          }
        }
      ]
    },
    {
      "cell_type": "code",
      "metadata": {
        "_cell_guid": "e6296ef8-acfa-45ed-bb48-e1b977b20c0d",
        "_uuid": "48647bef-d24b-4570-a3f2-609ad644a878",
        "execution": {
          "iopub.execute_input": "2021-04-11T12:45:49.229392Z",
          "iopub.status.busy": "2021-04-11T12:45:49.226120Z",
          "iopub.status.idle": "2021-04-11T12:45:49.748780Z",
          "shell.execute_reply": "2021-04-11T12:45:49.748198Z"
        },
        "jupyter": {
          "outputs_hidden": false
        },
        "papermill": {
          "duration": 0.592444,
          "end_time": "2021-04-11T12:45:49.748927",
          "exception": false,
          "start_time": "2021-04-11T12:45:49.156483",
          "status": "completed"
        },
        "tags": [],
        "id": "defined-india",
        "outputId": "5660e320-bcbf-45d9-f011-79f3c4e6147a"
      },
      "source": [
        "_, ax = plt.subplots(1,3, figsize = (12,8))\n",
        "\n",
        "sns.countplot(x = \"NumOfProducts\", hue ='Exited', data = df, ax = ax[0])\n",
        "sns.countplot(x = \"HasCrCard\", hue='Exited', data = df, ax = ax[1])\n",
        "sns.countplot(x = 'IsActiveMember' , hue = 'Exited', data = df,  ax = ax[2])"
      ],
      "id": "defined-india",
      "execution_count": null,
      "outputs": [
        {
          "output_type": "execute_result",
          "data": {
            "text/plain": [
              "<AxesSubplot:xlabel='IsActiveMember', ylabel='count'>"
            ]
          },
          "metadata": {
            "tags": []
          },
          "execution_count": 23
        },
        {
          "output_type": "display_data",
          "data": {
            "image/png": "[encoded data removed]",
            "text/plain": [
              "<Figure size 864x576 with 3 Axes>"
            ]
          },
          "metadata": {
            "tags": [],
            "needs_background": "light"
          }
        }
      ]
    },
    {
      "cell_type": "code",
      "metadata": {
        "_cell_guid": "40489ef5-a636-4342-9551-d0455895a6de",
        "_uuid": "f28359ea-8e8b-4871-8d68-26c4a210ef97",
        "execution": {
          "iopub.execute_input": "2021-04-11T12:45:49.860536Z",
          "iopub.status.busy": "2021-04-11T12:45:49.852791Z",
          "iopub.status.idle": "2021-04-11T12:45:49.872038Z",
          "shell.execute_reply": "2021-04-11T12:45:49.871390Z"
        },
        "jupyter": {
          "outputs_hidden": false
        },
        "papermill": {
          "duration": 0.075296,
          "end_time": "2021-04-11T12:45:49.872187",
          "exception": false,
          "start_time": "2021-04-11T12:45:49.796891",
          "status": "completed"
        },
        "tags": [],
        "id": "intense-relevance",
        "outputId": "832dde87-ebd7-4379-a8f0-87f758f16e71"
      },
      "source": [
        "df2=pd.crosstab( df['Exited'], df['HasCrCard'])\n",
        "df2"
      ],
      "id": "intense-relevance",
      "execution_count": null,
      "outputs": [
        {
          "output_type": "execute_result",
          "data": {
            "text/html": [
              "<div>\n",
              "<style scoped>\n",
              "    .dataframe tbody tr th:only-of-type {\n",
              "        vertical-align: middle;\n",
              "    }\n",
              "\n",
              "    .dataframe tbody tr th {\n",
              "        vertical-align: top;\n",
              "    }\n",
              "\n",
              "    .dataframe thead th {\n",
              "        text-align: right;\n",
              "    }\n",
              "</style>\n",
              "<table border=\"1\" class=\"dataframe\">\n",
              "  <thead>\n",
              "    <tr style=\"text-align: right;\">\n",
              "      <th>HasCrCard</th>\n",
              "      <th>0</th>\n",
              "      <th>1</th>\n",
              "    </tr>\n",
              "    <tr>\n",
              "      <th>Exited</th>\n",
              "      <th></th>\n",
              "      <th></th>\n",
              "    </tr>\n",
              "  </thead>\n",
              "  <tbody>\n",
              "    <tr>\n",
              "      <th>0</th>\n",
              "      <td>2332</td>\n",
              "      <td>5631</td>\n",
              "    </tr>\n",
              "    <tr>\n",
              "      <th>1</th>\n",
              "      <td>613</td>\n",
              "      <td>1424</td>\n",
              "    </tr>\n",
              "  </tbody>\n",
              "</table>\n",
              "</div>"
            ],
            "text/plain": [
              "HasCrCard     0     1\n",
              "Exited               \n",
              "0          2332  5631\n",
              "1           613  1424"
            ]
          },
          "metadata": {
            "tags": []
          },
          "execution_count": 24
        }
      ]
    },
    {
      "cell_type": "code",
      "metadata": {
        "_cell_guid": "28504201-b85a-4b57-a453-e5f2fce18bcf",
        "_uuid": "95590280-6097-4654-b33a-b5fe0bd86717",
        "execution": {
          "iopub.execute_input": "2021-04-11T12:45:49.975460Z",
          "iopub.status.busy": "2021-04-11T12:45:49.974752Z",
          "iopub.status.idle": "2021-04-11T12:45:50.121349Z",
          "shell.execute_reply": "2021-04-11T12:45:50.121819Z"
        },
        "jupyter": {
          "outputs_hidden": false
        },
        "papermill": {
          "duration": 0.201409,
          "end_time": "2021-04-11T12:45:50.122000",
          "exception": false,
          "start_time": "2021-04-11T12:45:49.920591",
          "status": "completed"
        },
        "tags": [],
        "id": "unsigned-theory",
        "outputId": "66c27e7e-1d4a-4da2-ecd9-656e8d3bd84b"
      },
      "source": [
        "plt.figure(figsize=(6,6))\n",
        "(df2.loc[1] * 100.0 / df2.sum()).plot(x=df2.index, y=df2.values, kind='bar')\n",
        "plt.ylabel('Churn percentage')\n",
        "plt.title('Churn_Rate vs hascr')"
      ],
      "id": "unsigned-theory",
      "execution_count": null,
      "outputs": [
        {
          "output_type": "execute_result",
          "data": {
            "text/plain": [
              "Text(0.5, 1.0, 'Churn_Rate vs hascr')"
            ]
          },
          "metadata": {
            "tags": []
          },
          "execution_count": 25
        },
        {
          "output_type": "display_data",
          "data": {
            "image/png": "[encoded data removed]",
            "text/plain": [
              "<Figure size 432x432 with 1 Axes>"
            ]
          },
          "metadata": {
            "tags": [],
            "needs_background": "light"
          }
        }
      ]
    },
    {
      "cell_type": "code",
      "metadata": {
        "_cell_guid": "35ba438d-0136-45f4-94b0-c0a8a7ea5315",
        "_uuid": "c6a72cae-aea0-480b-9fae-429177a3a974",
        "execution": {
          "iopub.execute_input": "2021-04-11T12:45:50.228803Z",
          "iopub.status.busy": "2021-04-11T12:45:50.228069Z",
          "iopub.status.idle": "2021-04-11T12:45:50.246647Z",
          "shell.execute_reply": "2021-04-11T12:45:50.246118Z"
        },
        "jupyter": {
          "outputs_hidden": false
        },
        "papermill": {
          "duration": 0.074067,
          "end_time": "2021-04-11T12:45:50.246795",
          "exception": false,
          "start_time": "2021-04-11T12:45:50.172728",
          "status": "completed"
        },
        "tags": [],
        "id": "secondary-profile",
        "outputId": "4d3b6550-84d3-4d5b-e004-b69c2932e920"
      },
      "source": [
        "df3=pd.crosstab( df['Exited'], df['IsActiveMember'])\n",
        "df3"
      ],
      "id": "secondary-profile",
      "execution_count": null,
      "outputs": [
        {
          "output_type": "execute_result",
          "data": {
            "text/html": [
              "<div>\n",
              "<style scoped>\n",
              "    .dataframe tbody tr th:only-of-type {\n",
              "        vertical-align: middle;\n",
              "    }\n",
              "\n",
              "    .dataframe tbody tr th {\n",
              "        vertical-align: top;\n",
              "    }\n",
              "\n",
              "    .dataframe thead th {\n",
              "        text-align: right;\n",
              "    }\n",
              "</style>\n",
              "<table border=\"1\" class=\"dataframe\">\n",
              "  <thead>\n",
              "    <tr style=\"text-align: right;\">\n",
              "      <th>IsActiveMember</th>\n",
              "      <th>0</th>\n",
              "      <th>1</th>\n",
              "    </tr>\n",
              "    <tr>\n",
              "      <th>Exited</th>\n",
              "      <th></th>\n",
              "      <th></th>\n",
              "    </tr>\n",
              "  </thead>\n",
              "  <tbody>\n",
              "    <tr>\n",
              "      <th>0</th>\n",
              "      <td>3547</td>\n",
              "      <td>4416</td>\n",
              "    </tr>\n",
              "    <tr>\n",
              "      <th>1</th>\n",
              "      <td>1302</td>\n",
              "      <td>735</td>\n",
              "    </tr>\n",
              "  </tbody>\n",
              "</table>\n",
              "</div>"
            ],
            "text/plain": [
              "IsActiveMember     0     1\n",
              "Exited                    \n",
              "0               3547  4416\n",
              "1               1302   735"
            ]
          },
          "metadata": {
            "tags": []
          },
          "execution_count": 26
        }
      ]
    },
    {
      "cell_type": "code",
      "metadata": {
        "_cell_guid": "ab3542bc-0750-4af2-9497-0b531388cb3b",
        "_uuid": "9dca7fd7-26e6-4b94-9206-637861a495e7",
        "execution": {
          "iopub.execute_input": "2021-04-11T12:45:50.349928Z",
          "iopub.status.busy": "2021-04-11T12:45:50.349235Z",
          "iopub.status.idle": "2021-04-11T12:45:50.479851Z",
          "shell.execute_reply": "2021-04-11T12:45:50.480315Z"
        },
        "jupyter": {
          "outputs_hidden": false
        },
        "papermill": {
          "duration": 0.183609,
          "end_time": "2021-04-11T12:45:50.480499",
          "exception": false,
          "start_time": "2021-04-11T12:45:50.296890",
          "status": "completed"
        },
        "tags": [],
        "id": "operational-correspondence",
        "outputId": "42d0c105-ab94-4ba4-cbcf-c2a1bc6917c0"
      },
      "source": [
        "plt.figure(figsize=(6,6))\n",
        "(df3.loc[1] * 100.0 / df3.sum()).plot(x=df3.index, y=df3.values, kind='bar')\n",
        "plt.ylabel('Churn percentage')\n",
        "plt.title('Churn_Rate vs active')"
      ],
      "id": "operational-correspondence",
      "execution_count": null,
      "outputs": [
        {
          "output_type": "execute_result",
          "data": {
            "text/plain": [
              "Text(0.5, 1.0, 'Churn_Rate vs active')"
            ]
          },
          "metadata": {
            "tags": []
          },
          "execution_count": 27
        },
        {
          "output_type": "display_data",
          "data": {
            "image/png": "[encoded data removed]",
            "text/plain": [
              "<Figure size 432x432 with 1 Axes>"
            ]
          },
          "metadata": {
            "tags": [],
            "needs_background": "light"
          }
        }
      ]
    },
    {
      "cell_type": "code",
      "metadata": {
        "_cell_guid": "8308b26a-a8e8-48e0-a540-917e24927681",
        "_uuid": "f5cf7e82-916b-46ac-ba04-171d1eb3ece2",
        "execution": {
          "iopub.execute_input": "2021-04-11T12:45:50.592584Z",
          "iopub.status.busy": "2021-04-11T12:45:50.588149Z",
          "iopub.status.idle": "2021-04-11T12:45:50.602806Z",
          "shell.execute_reply": "2021-04-11T12:45:50.602173Z"
        },
        "jupyter": {
          "outputs_hidden": false
        },
        "papermill": {
          "duration": 0.06958,
          "end_time": "2021-04-11T12:45:50.602948",
          "exception": false,
          "start_time": "2021-04-11T12:45:50.533368",
          "status": "completed"
        },
        "tags": [],
        "id": "institutional-methodology",
        "outputId": "f96e22e6-884e-49c7-e8d8-fb3723bf1c41"
      },
      "source": [
        "df[[\"NumOfProducts\",\"Exited\"]].groupby([\"NumOfProducts\"],as_index=False).mean()"
      ],
      "id": "institutional-methodology",
      "execution_count": null,
      "outputs": [
        {
          "output_type": "execute_result",
          "data": {
            "text/html": [
              "<div>\n",
              "<style scoped>\n",
              "    .dataframe tbody tr th:only-of-type {\n",
              "        vertical-align: middle;\n",
              "    }\n",
              "\n",
              "    .dataframe tbody tr th {\n",
              "        vertical-align: top;\n",
              "    }\n",
              "\n",
              "    .dataframe thead th {\n",
              "        text-align: right;\n",
              "    }\n",
              "</style>\n",
              "<table border=\"1\" class=\"dataframe\">\n",
              "  <thead>\n",
              "    <tr style=\"text-align: right;\">\n",
              "      <th></th>\n",
              "      <th>NumOfProducts</th>\n",
              "      <th>Exited</th>\n",
              "    </tr>\n",
              "  </thead>\n",
              "  <tbody>\n",
              "    <tr>\n",
              "      <th>0</th>\n",
              "      <td>1</td>\n",
              "      <td>0.277144</td>\n",
              "    </tr>\n",
              "    <tr>\n",
              "      <th>1</th>\n",
              "      <td>2</td>\n",
              "      <td>0.075817</td>\n",
              "    </tr>\n",
              "    <tr>\n",
              "      <th>2</th>\n",
              "      <td>3</td>\n",
              "      <td>0.827068</td>\n",
              "    </tr>\n",
              "    <tr>\n",
              "      <th>3</th>\n",
              "      <td>4</td>\n",
              "      <td>1.000000</td>\n",
              "    </tr>\n",
              "  </tbody>\n",
              "</table>\n",
              "</div>"
            ],
            "text/plain": [
              "   NumOfProducts    Exited\n",
              "0              1  0.277144\n",
              "1              2  0.075817\n",
              "2              3  0.827068\n",
              "3              4  1.000000"
            ]
          },
          "metadata": {
            "tags": []
          },
          "execution_count": 28
        }
      ]
    },
    {
      "cell_type": "code",
      "metadata": {
        "_cell_guid": "c932f78c-a55f-4302-9559-784d57a180e2",
        "_uuid": "43a676d3-9532-40e4-b218-6e324b894754",
        "execution": {
          "iopub.execute_input": "2021-04-11T12:45:50.710891Z",
          "iopub.status.busy": "2021-04-11T12:45:50.709878Z",
          "iopub.status.idle": "2021-04-11T12:45:50.735642Z",
          "shell.execute_reply": "2021-04-11T12:45:50.735118Z"
        },
        "jupyter": {
          "outputs_hidden": false
        },
        "papermill": {
          "duration": 0.08124,
          "end_time": "2021-04-11T12:45:50.735798",
          "exception": false,
          "start_time": "2021-04-11T12:45:50.654558",
          "status": "completed"
        },
        "tags": [],
        "id": "surrounded-singer",
        "outputId": "2b9276f1-c7fc-4516-b171-3bdaff1d762e"
      },
      "source": [
        "df4=pd.crosstab( df['Exited'], df['Tenure'])\n",
        "df4"
      ],
      "id": "surrounded-singer",
      "execution_count": null,
      "outputs": [
        {
          "output_type": "execute_result",
          "data": {
            "text/html": [
              "<div>\n",
              "<style scoped>\n",
              "    .dataframe tbody tr th:only-of-type {\n",
              "        vertical-align: middle;\n",
              "    }\n",
              "\n",
              "    .dataframe tbody tr th {\n",
              "        vertical-align: top;\n",
              "    }\n",
              "\n",
              "    .dataframe thead th {\n",
              "        text-align: right;\n",
              "    }\n",
              "</style>\n",
              "<table border=\"1\" class=\"dataframe\">\n",
              "  <thead>\n",
              "    <tr style=\"text-align: right;\">\n",
              "      <th>Tenure</th>\n",
              "      <th>0</th>\n",
              "      <th>1</th>\n",
              "      <th>2</th>\n",
              "      <th>3</th>\n",
              "      <th>4</th>\n",
              "      <th>5</th>\n",
              "      <th>6</th>\n",
              "      <th>7</th>\n",
              "      <th>8</th>\n",
              "      <th>9</th>\n",
              "      <th>10</th>\n",
              "    </tr>\n",
              "    <tr>\n",
              "      <th>Exited</th>\n",
              "      <th></th>\n",
              "      <th></th>\n",
              "      <th></th>\n",
              "      <th></th>\n",
              "      <th></th>\n",
              "      <th></th>\n",
              "      <th></th>\n",
              "      <th></th>\n",
              "      <th></th>\n",
              "      <th></th>\n",
              "      <th></th>\n",
              "    </tr>\n",
              "  </thead>\n",
              "  <tbody>\n",
              "    <tr>\n",
              "      <th>0</th>\n",
              "      <td>318</td>\n",
              "      <td>803</td>\n",
              "      <td>847</td>\n",
              "      <td>796</td>\n",
              "      <td>786</td>\n",
              "      <td>803</td>\n",
              "      <td>771</td>\n",
              "      <td>851</td>\n",
              "      <td>828</td>\n",
              "      <td>771</td>\n",
              "      <td>389</td>\n",
              "    </tr>\n",
              "    <tr>\n",
              "      <th>1</th>\n",
              "      <td>95</td>\n",
              "      <td>232</td>\n",
              "      <td>201</td>\n",
              "      <td>213</td>\n",
              "      <td>203</td>\n",
              "      <td>209</td>\n",
              "      <td>196</td>\n",
              "      <td>177</td>\n",
              "      <td>197</td>\n",
              "      <td>213</td>\n",
              "      <td>101</td>\n",
              "    </tr>\n",
              "  </tbody>\n",
              "</table>\n",
              "</div>"
            ],
            "text/plain": [
              "Tenure   0    1    2    3    4    5    6    7    8    9    10\n",
              "Exited                                                       \n",
              "0       318  803  847  796  786  803  771  851  828  771  389\n",
              "1        95  232  201  213  203  209  196  177  197  213  101"
            ]
          },
          "metadata": {
            "tags": []
          },
          "execution_count": 29
        }
      ]
    },
    {
      "cell_type": "code",
      "metadata": {
        "_cell_guid": "c2dba55f-dc1a-4c54-89c4-8c32b81801c5",
        "_uuid": "6190baf2-88a0-454e-b196-ae24112bae58",
        "execution": {
          "iopub.execute_input": "2021-04-11T12:45:50.850469Z",
          "iopub.status.busy": "2021-04-11T12:45:50.849577Z",
          "iopub.status.idle": "2021-04-11T12:45:50.854524Z",
          "shell.execute_reply": "2021-04-11T12:45:50.853991Z"
        },
        "jupyter": {
          "outputs_hidden": false
        },
        "papermill": {
          "duration": 0.066743,
          "end_time": "2021-04-11T12:45:50.854749",
          "exception": false,
          "start_time": "2021-04-11T12:45:50.788006",
          "status": "completed"
        },
        "tags": [],
        "colab": {
          "base_uri": "https://localhost:8080/",
          "height": 154
        },
        "id": "associate-airline",
        "outputId": "c6b52d2e-31a2-4780-f3a2-b926a557d456"
      },
      "source": [
        "EDA\n",
        "1. As Customer Id, Row_no and Surname will have no impact on our data set or will not be helpul in providing any insights.Hence these colomn can be dropped.\n",
        "2.Churned out Customer are 20% of our dataset as compared to the retained customer which is almost 80% of the dataset.\n",
        "3.Compartively female likely to exit the bank. Further we can explore it with the age group \n",
        "4.People in the age group 35 to 50 likely to exit the bank.\n",
        "5.Churn rate is less in both male and female as the age increases but quite high in the age group 40-45 in both male and female\n",
        "6.There was no direct relationship in the estimated Salary of the customer with the customer data set but further can be explored with the other variables like Balance\n",
        "7.Customer with Estimated Salary between 50000-100000 and Balance 100000-150000 likely to churn out of the bank.\n",
        "8.Customer who has credit card and active member are less likely to churn out of the bank.\n",
        "9.Customer with two number of products are likely to exit the bank.\n",
        "10. On the basis of the geography, Customers from germany likely to leave bank.\n",
        "11. Customers with credit score less than 600 have high tendency to churn out of the bank.\n",
        "12. If the Tenure is 3yrs or less than 3 , churn rate is higher"
      ],
      "id": "associate-airline",
      "execution_count": 17,
      "outputs": [
        {
          "output_type": "error",
          "ename": "SyntaxError",
          "evalue": "ignored",
          "traceback": [
            "\u001b[0;36m  File \u001b[0;32m\"<ipython-input-17-4ae49e051216>\"\u001b[0;36m, line \u001b[0;32m2\u001b[0m\n\u001b[0;31m    1. As Customer Id, Row_no and Surname will have no impact on our data set or will not be helpul in providing any insights.Hence these colomn can be dropped.\u001b[0m\n\u001b[0m        ^\u001b[0m\n\u001b[0;31mSyntaxError\u001b[0m\u001b[0;31m:\u001b[0m invalid syntax\n"
          ]
        }
      ]
    },
    {
      "cell_type": "markdown",
      "metadata": {
        "_cell_guid": "62b7018c-ed62-4b3f-9eb6-ffe0cacee7ff",
        "_uuid": "e53a0d60-cdd6-4161-805d-6294e4e77889",
        "papermill": {
          "duration": 0.0529,
          "end_time": "2021-04-11T12:45:50.960998",
          "exception": false,
          "start_time": "2021-04-11T12:45:50.908098",
          "status": "completed"
        },
        "tags": [],
        "id": "satisfactory-boston"
      },
      "source": [
        ""
      ],
      "id": "satisfactory-boston"
    }
  ]
}